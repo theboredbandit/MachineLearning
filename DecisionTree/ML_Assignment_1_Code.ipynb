{
 "cells": [
  {
   "cell_type": "markdown",
   "metadata": {},
   "source": [
    "# Import Statements"
   ]
  },
  {
   "cell_type": "code",
   "execution_count": 1,
   "metadata": {},
   "outputs": [],
   "source": [
    "import numpy as np\n",
    "import pandas as pd\n",
    "\n",
    "import matplotlib.pyplot as plt\n",
    "import seaborn as sns\n",
    "%matplotlib inline\n",
    "\n",
    "import random\n",
    "from pprint import pprint\n",
    "\n",
    "random.seed(45)"
   ]
  },
  {
   "cell_type": "markdown",
   "metadata": {},
   "source": [
    "# Train Test Split"
   ]
  },
  {
   "cell_type": "code",
   "execution_count": 2,
   "metadata": {},
   "outputs": [],
   "source": [
    "def train_test_split(df, test_size):\n",
    "    \n",
    "    if isinstance(test_size, float):\n",
    "        test_size = round(test_size*len(df))#Calculating the test size \n",
    "\n",
    "    indices = df.index.tolist()\n",
    "    test_indices = random.sample(population = indices, k = test_size)#Random sampling of data\n",
    "\n",
    "    test_df = df.loc[test_indices]#Getting the test data set\n",
    "    train_df = df.drop(test_indices)#Getting the train data set\n",
    "    return train_df, test_df"
   ]
  },
  {
   "cell_type": "markdown",
   "metadata": {},
   "source": [
    "### Data Pure?"
   ]
  },
  {
   "cell_type": "code",
   "execution_count": 3,
   "metadata": {},
   "outputs": [],
   "source": [
    "def check_purity(data):\n",
    "    label_column = data[:, -1]\n",
    "    unique_classes = np.unique(label_column)\n",
    "\n",
    "    if(len(unique_classes)) == 1:#Only 1 target attribute present in data\n",
    "        return True\n",
    "    else:\n",
    "        return False"
   ]
  },
  {
   "cell_type": "markdown",
   "metadata": {},
   "source": [
    "### Classify Data"
   ]
  },
  {
   "cell_type": "code",
   "execution_count": 4,
   "metadata": {},
   "outputs": [],
   "source": [
    "def classify_data(data):\n",
    "    \n",
    "    label_column = data[:, -1]\n",
    "    \n",
    "    classification = np.mean(label_column)#Final classification of data as mean of all target attriutes present \n",
    "   \n",
    "    return classification"
   ]
  },
  {
   "cell_type": "markdown",
   "metadata": {},
   "source": [
    "### Potential Splits"
   ]
  },
  {
   "cell_type": "code",
   "execution_count": 5,
   "metadata": {},
   "outputs": [],
   "source": [
    "def get_potential_splits(data):#Getting all the potential points with which we can split data\n",
    "    potential_splits = {}\n",
    "    _, n_columns = data.shape\n",
    "    for column_index in range(n_columns - 1):\n",
    "        potential_splits[column_index] = []\n",
    "        values = data[:, column_index]\n",
    "        unique_values = np.unique(values)\n",
    "        \n",
    "        for index in range(len(unique_values)):\n",
    "            if index!=0:\n",
    "                current_value = unique_values[index]\n",
    "                previous_value = unique_values[index-1]\n",
    "                potential_split = (current_value+previous_value)/2\n",
    "                \n",
    "                potential_splits[column_index].append(potential_split)\n",
    "    \n",
    "    return potential_splits"
   ]
  },
  {
   "cell_type": "markdown",
   "metadata": {},
   "source": [
    "###   Split Data"
   ]
  },
  {
   "cell_type": "code",
   "execution_count": 6,
   "metadata": {},
   "outputs": [],
   "source": [
    "def split_data(data, split_column, split_value):#Splitting data with the target attribute specified and target attribute vale\n",
    "    \n",
    "    split_column_values = data[:, split_column]\n",
    "    \n",
    "    data_below = data[split_column_values <= split_value]\n",
    "    data_above = data[split_column_values >= split_value]\n",
    "    \n",
    "    return data_below, data_above\n"
   ]
  },
  {
   "cell_type": "markdown",
   "metadata": {},
   "source": [
    "### Determine Best Split"
   ]
  },
  {
   "cell_type": "code",
   "execution_count": 7,
   "metadata": {},
   "outputs": [],
   "source": [
    "def calculate_mse(data):#Returns the mean squared error of the target attribute in dataset passed\n",
    "    \n",
    "    actual_values = data[:, -1]\n",
    "    \n",
    "    if len(actual_values) == 0: \n",
    "        mean_squared_error = 0\n",
    "    else :\n",
    "        prediction = np.mean(actual_values)\n",
    "        mean_squared_error = np.mean((actual_values - prediction)**2)\n",
    "    return mean_squared_error"
   ]
  },
  {
   "cell_type": "code",
   "execution_count": 8,
   "metadata": {},
   "outputs": [],
   "source": [
    "def calculate_overall_mse(data_below, data_above):#Calculate overall mse of the data_above and data_below\n",
    "    n_data_points = len(data_below) + len(data_above)\n",
    "    \n",
    "    p_data_below = len(data_below)/n_data_points\n",
    "    p_data_above = len(data_above)/n_data_points\n",
    "    \n",
    "    overall_mse = (p_data_below*calculate_mse(data_below)\n",
    "                      +p_data_above*calculate_mse(data_above))#Weighted average of mse of the 2 parts\n",
    "    \n",
    "    return overall_mse"
   ]
  },
  {
   "cell_type": "code",
   "execution_count": 9,
   "metadata": {},
   "outputs": [],
   "source": [
    "def determine_best_split(data, potential_splits, counter):\n",
    "    overall_mse = -1#Finding the best split that provides best reduction in overall mean squared error\n",
    "    for column_index in potential_splits:\n",
    "        for value in potential_splits[column_index]:\n",
    "            data_below, data_above = split_data(data, split_column = column_index, split_value = value)\n",
    "            current_overall_mse = calculate_overall_mse(data_below, data_above)\n",
    "            if overall_mse < 0:\n",
    "                overall_mse = current_overall_mse\n",
    "                best_split_column = column_index\n",
    "                best_split_value = value\n",
    "            elif counter%2 == 0 and (current_overall_mse < overall_mse):\n",
    "                overall_mse = current_overall_mse\n",
    "                best_split_column = column_index\n",
    "                best_split_value = value\n",
    "            elif counter%2 == 1 and (current_overall_mse <= overall_mse):\n",
    "                overall_mse = current_overall_mse\n",
    "                best_split_column = column_index\n",
    "                best_split_value = value\n",
    "    if best_split_value == 0:\n",
    "        print(data)\n",
    "    return best_split_column, best_split_value#This is the best split returned"
   ]
  },
  {
   "cell_type": "markdown",
   "metadata": {},
   "source": [
    "### Decision Tree Algorithm"
   ]
  },
  {
   "cell_type": "markdown",
   "metadata": {},
   "source": [
    "#### Algorithm"
   ]
  },
  {
   "cell_type": "code",
   "execution_count": 10,
   "metadata": {},
   "outputs": [],
   "source": [
    "def decision_tree_algorithm(dataf, counter=0, max_depth = 10):\n",
    "    \n",
    "    if counter == 0:\n",
    "        global COLUMN_HEADERS\n",
    "        COLUMN_HEADERS = dataf.columns\n",
    "        data = dataf.values\n",
    "    else:\n",
    "        data = dataf\n",
    "    \n",
    "    #base case\n",
    "    #print(data)\n",
    "    if check_purity(data):\n",
    "        #print(True)\n",
    "        classification = classify_data(data)\n",
    "        return classification\n",
    "    elif counter >= max_depth and max_depth>0:\n",
    "        classification = classify_data(data)\n",
    "        return classification\n",
    "    #recursive part\n",
    "    else:\n",
    "        counter+=1\n",
    "        \n",
    "        #helper functions\n",
    "        potential_splits = get_potential_splits(data)\n",
    "        split_column, split_value = determine_best_split(data, potential_splits, counter)\n",
    "        data_below, data_above = split_data(data, split_column,split_value)\n",
    "        \n",
    "        #print(\"split_column {}, split_value {}\".format(split_column, split_value))\n",
    "        if len(data_below)==0 or len(data_above)==0:\n",
    "            classification = classify_data(data)\n",
    "            return classification\n",
    "        #instantiate sub-tree\n",
    "        feature_name = COLUMN_HEADERS[split_column]\n",
    "        question = \"{} <= {}\".format(feature_name, split_value)\n",
    "        sub_tree = {question: []}\n",
    "        \n",
    "        #find answers (recursion)\n",
    "        yes_answer = decision_tree_algorithm(data_below, counter, max_depth)\n",
    "        no_answer = decision_tree_algorithm(data_above, counter, max_depth)\n",
    "        \n",
    "        if yes_answer == no_answer:\n",
    "            sub_tree = yes_answer\n",
    "        else:\n",
    "            sub_tree[question].append(yes_answer)\n",
    "            sub_tree[question].append(no_answer)\n",
    "        \n",
    "        return sub_tree"
   ]
  },
  {
   "cell_type": "markdown",
   "metadata": {},
   "source": [
    "# Prediction"
   ]
  },
  {
   "cell_type": "code",
   "execution_count": 11,
   "metadata": {},
   "outputs": [],
   "source": [
    "def classify_example(example, tree):#Predicting final value of unseen example with given tree\n",
    "    question = list(tree.keys())[0]\n",
    "    feature_name, comparison_operator, value = question.split()\n",
    "    #print(example[feature_name])\n",
    "    if example[feature_name] <= float(value):\n",
    "        answer = tree[question][0]\n",
    "        #print(answer)\n",
    "    else:\n",
    "        answer = tree[question][1]\n",
    "        #print(answer)\n",
    "    #base case\n",
    "    if not isinstance(answer, dict):\n",
    "        return float(answer)\n",
    "    #Recursive Call\n",
    "    else:\n",
    "        residual_tree = answer\n",
    "        return classify_example(example, residual_tree)"
   ]
  },
  {
   "cell_type": "markdown",
   "metadata": {},
   "source": [
    "# Hyperparameter Tuning"
   ]
  },
  {
   "cell_type": "code",
   "execution_count": 12,
   "metadata": {},
   "outputs": [],
   "source": [
    "def calculate_r_squared(df, tree):#Measure of accuracy \n",
    "    labels = df.label\n",
    "    mean = labels.mean()\n",
    "    predictions = df.apply(classify_example, args=(tree,), axis = 1)\n",
    "    \n",
    "    ss_res = sum((labels-predictions)**2)\n",
    "    ss_tot = sum((labels-mean)**2)\n",
    "    r_squared = 1 - ss_res/ss_tot\n",
    "    \n",
    "    return r_squared"
   ]
  },
  {
   "cell_type": "markdown",
   "metadata": {},
   "source": [
    "# Running Method"
   ]
  },
  {
   "cell_type": "code",
   "execution_count": 13,
   "metadata": {},
   "outputs": [],
   "source": [
    "def build_tree():\n",
    "    df = pd.read_csv(\"PercentageIncreaseCOVIDWorldwide.csv\")\n",
    "    df = df.drop(\"Date\", axis = 1)\n",
    "    df = df.rename(columns = {\"Increase rate\": \"label\"})\n",
    "    df = df.drop(df.index[0])\n",
    "    print(\"Enter Maximum Depth\")\n",
    "    max = input()\n",
    "    r_squared = 0.00\n",
    "    for i in range(10):#Finding the best split over 10 random 80:20 splits \n",
    "        train_val_df, test_df = train_test_split(df, test_size = 0.2)\n",
    "        train_df, val_df = train_test_split(train_val_df, test_size = 0.25)\n",
    "        tree = decision_tree_algorithm(train_df, counter = 0, max_depth = int(max))\n",
    "        r_squared_train = calculate_r_squared(train_df, tree)\n",
    "        r_squared_test = calculate_r_squared(test_df, tree)\n",
    "        if r_squared_test > r_squared:#Finding the split offering best test accuracy\n",
    "            r_squared = r_squared_test\n",
    "            train_df_best = train_df\n",
    "            test_df_best = test_df\n",
    "            val_df_best = val_df\n",
    "            \n",
    "    return train_df_best, test_df_best, val_df_best"
   ]
  },
  {
   "cell_type": "code",
   "execution_count": null,
   "metadata": {
    "scrolled": true
   },
   "outputs": [],
   "source": []
  },
  {
   "cell_type": "code",
   "execution_count": 14,
   "metadata": {
    "scrolled": true
   },
   "outputs": [
    {
     "name": "stdout",
     "output_type": "stream",
     "text": [
      "Enter Maximum Depth\n",
      "6\n"
     ]
    }
   ],
   "source": [
    "train_df_best, test_df_best, val_df_best = build_tree()"
   ]
  },
  {
   "cell_type": "code",
   "execution_count": null,
   "metadata": {},
   "outputs": [],
   "source": []
  },
  {
   "cell_type": "code",
   "execution_count": 15,
   "metadata": {},
   "outputs": [
    {
     "name": "stdout",
     "output_type": "stream",
     "text": [
      "Progress: Iteration 1/10\n",
      "Progress: Iteration 2/10\n",
      "Progress: Iteration 3/10\n",
      "Progress: Iteration 4/10\n",
      "Progress: Iteration 5/10\n",
      "Progress: Iteration 6/10\n",
      "Progress: Iteration 7/10\n",
      "Progress: Iteration 8/10\n",
      "Progress: Iteration 9/10\n",
      "Progress: Iteration 10/10\n"
     ]
    },
    {
     "data": {
      "text/html": [
       "<div>\n",
       "<style scoped>\n",
       "    .dataframe tbody tr th:only-of-type {\n",
       "        vertical-align: middle;\n",
       "    }\n",
       "\n",
       "    .dataframe tbody tr th {\n",
       "        vertical-align: top;\n",
       "    }\n",
       "\n",
       "    .dataframe thead th {\n",
       "        text-align: right;\n",
       "    }\n",
       "</style>\n",
       "<table border=\"1\" class=\"dataframe\">\n",
       "  <thead>\n",
       "    <tr style=\"text-align: right;\">\n",
       "      <th></th>\n",
       "      <th>max_depth</th>\n",
       "      <th>r_squared_train</th>\n",
       "      <th>r_squared_test</th>\n",
       "    </tr>\n",
       "  </thead>\n",
       "  <tbody>\n",
       "    <tr>\n",
       "      <td>6</td>\n",
       "      <td>7</td>\n",
       "      <td>0.998859</td>\n",
       "      <td>0.778993</td>\n",
       "    </tr>\n",
       "    <tr>\n",
       "      <td>5</td>\n",
       "      <td>6</td>\n",
       "      <td>0.997140</td>\n",
       "      <td>0.778417</td>\n",
       "    </tr>\n",
       "    <tr>\n",
       "      <td>7</td>\n",
       "      <td>8</td>\n",
       "      <td>0.999582</td>\n",
       "      <td>0.778260</td>\n",
       "    </tr>\n",
       "    <tr>\n",
       "      <td>8</td>\n",
       "      <td>9</td>\n",
       "      <td>0.999785</td>\n",
       "      <td>0.778253</td>\n",
       "    </tr>\n",
       "    <tr>\n",
       "      <td>9</td>\n",
       "      <td>10</td>\n",
       "      <td>0.999922</td>\n",
       "      <td>0.777870</td>\n",
       "    </tr>\n",
       "    <tr>\n",
       "      <td>3</td>\n",
       "      <td>4</td>\n",
       "      <td>0.975295</td>\n",
       "      <td>0.748259</td>\n",
       "    </tr>\n",
       "    <tr>\n",
       "      <td>4</td>\n",
       "      <td>5</td>\n",
       "      <td>0.986054</td>\n",
       "      <td>0.740042</td>\n",
       "    </tr>\n",
       "    <tr>\n",
       "      <td>2</td>\n",
       "      <td>3</td>\n",
       "      <td>0.907342</td>\n",
       "      <td>0.648440</td>\n",
       "    </tr>\n",
       "    <tr>\n",
       "      <td>1</td>\n",
       "      <td>2</td>\n",
       "      <td>0.855019</td>\n",
       "      <td>0.629770</td>\n",
       "    </tr>\n",
       "    <tr>\n",
       "      <td>0</td>\n",
       "      <td>1</td>\n",
       "      <td>0.609444</td>\n",
       "      <td>0.459665</td>\n",
       "    </tr>\n",
       "  </tbody>\n",
       "</table>\n",
       "</div>"
      ],
      "text/plain": [
       "   max_depth  r_squared_train  r_squared_test\n",
       "6          7         0.998859        0.778993\n",
       "5          6         0.997140        0.778417\n",
       "7          8         0.999582        0.778260\n",
       "8          9         0.999785        0.778253\n",
       "9         10         0.999922        0.777870\n",
       "3          4         0.975295        0.748259\n",
       "4          5         0.986054        0.740042\n",
       "2          3         0.907342        0.648440\n",
       "1          2         0.855019        0.629770\n",
       "0          1         0.609444        0.459665"
      ]
     },
     "execution_count": 15,
     "metadata": {},
     "output_type": "execute_result"
    }
   ],
   "source": [
    "grid_search = {\"max_depth\": [],  \"r_squared_train\": [], \"r_squared_test\": []}\n",
    "\n",
    "for max_depth in range (1,11):#Recording train and test error over different max depths\n",
    "    tree = decision_tree_algorithm(train_df_best, counter = 0, max_depth = max_depth)\n",
    "    r_squared_train = calculate_r_squared(train_df_best, tree)\n",
    "    r_squared_test = calculate_r_squared(test_df_best, tree)\n",
    "    r_squared_val = calculate_r_squared(val_df_best, tree)    \n",
    "    \n",
    "    grid_search[\"max_depth\"].append(max_depth)\n",
    "    grid_search[\"r_squared_train\"].append(r_squared_train)\n",
    "    grid_search[\"r_squared_test\"].append(r_squared_test)\n",
    "    \n",
    "    print(\"Progress: Iteration {}/10\".format(max_depth))\n",
    "    \n",
    "grid_search = pd.DataFrame(grid_search)\n",
    "grid_search.sort_values(\"r_squared_test\", ascending = False)"
   ]
  },
  {
   "cell_type": "code",
   "execution_count": 16,
   "metadata": {},
   "outputs": [
    {
     "data": {
      "text/plain": [
       "<matplotlib.legend.Legend at 0x1d78c962b08>"
      ]
     },
     "execution_count": 16,
     "metadata": {},
     "output_type": "execute_result"
    },
    {
     "data": {
      "image/png": "[encoded data removed]",
      "text/plain": [
       "<Figure size 432x288 with 1 Axes>"
      ]
     },
     "metadata": {
      "needs_background": "light"
     },
     "output_type": "display_data"
    }
   ],
   "source": [
    "plt.plot(grid_search[\"max_depth\"], grid_search[\"r_squared_train\"], label = 'Training Accuracy')\n",
    "plt.plot(grid_search[\"max_depth\"], grid_search[\"r_squared_test\"], label = 'Test_accuracy')\n",
    "plt.xlabel(\"Height\")\n",
    "plt.ylabel(\"Accuracy\")\n",
    "plt.legend()"
   ]
  },
  {
   "cell_type": "code",
   "execution_count": 17,
   "metadata": {},
   "outputs": [
    {
     "name": "stdout",
     "output_type": "stream",
     "text": [
      "Best Depth of the tree for which test accuracy is maximum is : 7\n"
     ]
    }
   ],
   "source": [
    "max_accuracy = grid_search[\"r_squared_test\"][0]\n",
    "best_depth = 1\n",
    "for i in range(0, len(grid_search[\"r_squared_test\"])):\n",
    "    if grid_search[\"r_squared_test\"][i] >= max_accuracy:\n",
    "        max_accuracy = grid_search[\"r_squared_test\"][i]\n",
    "        best_depth = i+1\n",
    "\n",
    "print(\"Best Depth of the tree for which test accuracy is maximum is : {}\".format(best_depth))"
   ]
  },
  {
   "cell_type": "code",
   "execution_count": 18,
   "metadata": {},
   "outputs": [],
   "source": [
    "tree_best = decision_tree_algorithm(train_df_best, counter = 0, max_depth = best_depth)"
   ]
  },
  {
   "cell_type": "markdown",
   "metadata": {},
   "source": [
    "# Post Pruning"
   ]
  },
  {
   "cell_type": "code",
   "execution_count": 19,
   "metadata": {},
   "outputs": [],
   "source": [
    "def post_pruning(tree, df_train, df_val):\n",
    "    \n",
    "    question = list(tree.keys())[0]\n",
    "    #print(question)\n",
    "    yes_answer, no_answer = tree[question]\n",
    "    #base case\n",
    "    if not isinstance(yes_answer, dict) and not isinstance(no_answer, dict):\n",
    "        prediction = df_train.label.mean()\n",
    "        leaf = prediction\n",
    "        new_tree = {question : [prediction, prediction]}\n",
    "        if df_train.shape[0]<=1 or df_val.shape[0] <= 1:\n",
    "            return tree\n",
    "        accuracy_leaf = calculate_r_squared(df_val, new_tree)\n",
    "        accuracy_tree = calculate_r_squared(df_val, tree)\n",
    "        \n",
    "        if accuracy_leaf >= accuracy_tree:#if post-pruning accuracy > pre-pruning accuracy\n",
    "            print(\"trimmed at node {}\".format(question))#To check which nodes are trimmed\n",
    "            return prediction\n",
    "        else:\n",
    "            return tree\n",
    "    # Recursive part\n",
    "    else:\n",
    "        feature, _, value = question.split()\n",
    "        df_train_yes = df_train[df_train[feature] <= float(value)]\n",
    "        df_train_no = df_train[df_train[feature] > float(value)]\n",
    "        df_val_yes = df_val[df_val[feature] <= float(value)]\n",
    "        df_val_no = df_val[df_val[feature] > float(value)]\n",
    "        \n",
    "        if isinstance(yes_answer, dict):#Non leaf\n",
    "            tree[question][0] = post_pruning(yes_answer, df_train_yes, df_val_yes)\n",
    "        \n",
    "        if isinstance(no_answer, dict):#Non leaf\n",
    "            tree[question][1] = post_pruning(no_answer, df_train_no, df_val_no)\n",
    "            \n",
    "        return tree\n",
    "    \n",
    "   "
   ]
  },
  {
   "cell_type": "code",
   "execution_count": 20,
   "metadata": {
    "scrolled": true
   },
   "outputs": [
    {
     "name": "stdout",
     "output_type": "stream",
     "text": [
      "trimmed at node Deaths <= 54.0\n",
      "trimmed at node Deaths <= 474925.0\n",
      "trimmed at node Deaths <= 848444.0\n"
     ]
    }
   ],
   "source": [
    "tree_best_pruned = post_pruning(tree_best, train_df_best, val_df_best)#Pruning the tree\n",
    "            "
   ]
  },
  {
   "cell_type": "code",
   "execution_count": 21,
   "metadata": {},
   "outputs": [
    {
     "name": "stdout",
     "output_type": "stream",
     "text": [
      " Deaths <= 563.0\n",
      " (True) \n",
      "\t Confirmed <= 4546.5\n",
      "\t (True) \n",
      "\t Predicted Rate = 41.040101879999995\n",
      "\t (False) \n",
      "\t\t Deaths <= 173.0\n",
      "\t\t (True) \n",
      "\t\t Predicted Rate = 10.54141269\n",
      "\t\t (False) \n",
      "\t\t\t Confirmed <= 17968.0\n",
      "\t\t\t (True) \n",
      "\t\t\t\t Deaths <= 236.0\n",
      "\t\t\t\t (True) \n",
      "\t\t\t\t Predicted Rate = 20.54894341\n",
      "\t\t\t\t (False) \n",
      "\t\t\t\t Predicted Rate = 21.27745315\n",
      "\t\t\t (False) \n",
      "\t\t\t Predicted Rate = 20.16895459\n",
      " (False) \n",
      "\t Confirmed <= 2288578.5\n",
      "\t (True) \n",
      "\t\t Deaths <= 4299.0\n",
      "\t\t (True) \n",
      "\t\t\t Confirmed <= 67979.0\n",
      "\t\t\t (True) \n",
      "\t\t\t\t Deaths <= 762.5\n",
      "\t\t\t\t (True) \n",
      "\t\t\t\t\t Confirmed <= 32598.5\n",
      "\t\t\t\t\t (True) \n",
      "\t\t\t\t\t Predicted Rate = 11.42784792\n",
      "\t\t\t\t\t (False) \n",
      "\t\t\t\t\t Predicted Rate = 11.66482696\n",
      "\t\t\t\t (False) \n",
      "\t\t\t\t\t Confirmed <= 55859.0\n",
      "\t\t\t\t\t (True) \n",
      "\t\t\t\t\t\t Deaths <= 1063.0\n",
      "\t\t\t\t\t\t (True) \n",
      "\t\t\t\t\t\t Predicted Rate = 7.222752743\n",
      "\t\t\t\t\t\t (False) \n",
      "\t\t\t\t\t\t Predicted Rate = 4.77459783\n",
      "\t\t\t\t\t (False) \n",
      "\t\t\t\t\t Predicted Rate = 10.80969179\n",
      "\t\t\t (False) \n",
      "\t\t\t\t Deaths <= 1995.5\n",
      "\t\t\t\t (True) \n",
      "\t\t\t\t\t Confirmed <= 72251.5\n",
      "\t\t\t\t\t (True) \n",
      "\t\t\t\t\t\t Deaths <= 1718.0\n",
      "\t\t\t\t\t\t (True) \n",
      "\t\t\t\t\t\t Predicted Rate = 3.2014108930000003\n",
      "\t\t\t\t\t\t (False) \n",
      "\t\t\t\t\t\t Predicted Rate = 3.162925416\n",
      "\t\t\t\t\t (False) \n",
      "\t\t\t\t\t Predicted Rate = 2.8567818739999997\n",
      "\t\t\t\t (False) \n",
      "\t\t\t\t\t Confirmed <= 84374.0\n",
      "\t\t\t\t\t (True) \n",
      "\t\t\t\t\t\t Deaths <= 2740.5\n",
      "\t\t\t\t\t\t (True) \n",
      "\t\t\t\t\t\t Predicted Rate = 0.8034706933999999\n",
      "\t\t\t\t\t\t (False) \n",
      "\t\t\t\t\t\t Predicted Rate = 1.44323966\n",
      "\t\t\t\t\t (False) \n",
      "\t\t\t\t\t\t Deaths <= 3491.5\n",
      "\t\t\t\t\t\t (True) \n",
      "\t\t\t\t\t\t Predicted Rate = 2.509852726\n",
      "\t\t\t\t\t\t (False) \n",
      "\t\t\t\t\t\t Predicted Rate = 3.5938650639999996\n",
      "\t\t (False) \n",
      "\t\t\t Confirmed <= 1433349.5\n",
      "\t\t\t (True) \n",
      "\t\t\t\t Deaths <= 9712.0\n",
      "\t\t\t\t (True) \n",
      "\t\t\t\t\t Confirmed <= 184211.5\n",
      "\t\t\t\t\t (True) \n",
      "\t\t\t\t\t\t Deaths <= 5543.0\n",
      "\t\t\t\t\t\t (True) \n",
      "\t\t\t\t\t\t Predicted Rate = 6.479107652000001\n",
      "\t\t\t\t\t\t (False) \n",
      "\t\t\t\t\t\t Predicted Rate = 7.117191906\n",
      "\t\t\t\t\t (False) \n",
      "\t\t\t\t\t Predicted Rate = 8.555235548999999\n",
      "\t\t\t\t (False) \n",
      "\t\t\t\t\t Confirmed <= 701460.0\n",
      "\t\t\t\t\t (True) \n",
      "\t\t\t\t\t\t Deaths <= 28497.5\n",
      "\t\t\t\t\t\t (True) \n",
      "\t\t\t\t\t\t Predicted Rate = 11.993221004\n",
      "\t\t\t\t\t\t (False) \n",
      "\t\t\t\t\t\t Predicted Rate = 11.21739994\n",
      "\t\t\t\t\t (False) \n",
      "\t\t\t\t\t\t Deaths <= 62226.0\n",
      "\t\t\t\t\t\t (True) \n",
      "\t\t\t\t\t\t Predicted Rate = 8.767461428666666\n",
      "\t\t\t\t\t\t (False) \n",
      "\t\t\t\t\t\t Predicted Rate = 7.232104118\n",
      "\t\t\t (False) \n",
      "\t\t\t\t Deaths <= 118608.0\n",
      "\t\t\t\t (True) \n",
      "\t\t\t\t Predicted Rate = 5.519138332000001\n",
      "\t\t\t\t (False) \n",
      "\t\t\t\t\t Confirmed <= 2026764.5\n",
      "\t\t\t\t\t (True) \n",
      "\t\t\t\t\t\t Deaths <= 131077.0\n",
      "\t\t\t\t\t\t (True) \n",
      "\t\t\t\t\t\t Predicted Rate = 3.771078812\n",
      "\t\t\t\t\t\t (False) \n",
      "\t\t\t\t\t\t Predicted Rate = 3.6431678339999998\n",
      "\t\t\t\t\t (False) \n",
      "\t\t\t\t\t\t Deaths <= 154404.5\n",
      "\t\t\t\t\t\t (True) \n",
      "\t\t\t\t\t\t Predicted Rate = 4.376766493\n",
      "\t\t\t\t\t\t (False) \n",
      "\t\t\t\t\t\t Predicted Rate = 4.05422329\n",
      "\t (False) \n",
      "\t\t Deaths <= 316068.0\n",
      "\t\t (True) \n",
      "\t\t\t Confirmed <= 2928686.0\n",
      "\t\t\t (True) \n",
      "\t\t\t\t Deaths <= 199813.5\n",
      "\t\t\t\t (True) \n",
      "\t\t\t\t\t Confirmed <= 2365769.5\n",
      "\t\t\t\t\t (True) \n",
      "\t\t\t\t\t Predicted Rate = 3.278141754\n",
      "\t\t\t\t\t (False) \n",
      "\t\t\t\t\t\t Deaths <= 183173.5\n",
      "\t\t\t\t\t\t (True) \n",
      "\t\t\t\t\t\t Predicted Rate = 3.464610608\n",
      "\t\t\t\t\t\t (False) \n",
      "\t\t\t\t\t\t Predicted Rate = 3.374216928\n",
      "\t\t\t\t (False) \n",
      "\t\t\t\t\t Confirmed <= 2849895.5\n",
      "\t\t\t\t\t (True) \n",
      "\t\t\t\t\t Predicted Rate = 3.194609391\n",
      "\t\t\t\t\t (False) \n",
      "\t\t\t\t\t Predicted Rate = 3.020521853\n",
      "\t\t\t (False) \n",
      "\t\t\t\t Deaths <= 280170.5\n",
      "\t\t\t\t (True) \n",
      "\t\t\t\t\t Confirmed <= 3477511.0\n",
      "\t\t\t\t\t (True) \n",
      "\t\t\t\t\t\t Deaths <= 215045.0\n",
      "\t\t\t\t\t\t (True) \n",
      "\t\t\t\t\t\t Predicted Rate = 2.51633996\n",
      "\t\t\t\t\t\t (False) \n",
      "\t\t\t\t\t\t Predicted Rate = 2.4292759667499997\n",
      "\t\t\t\t\t (False) \n",
      "\t\t\t\t\t\t Deaths <= 263995.5\n",
      "\t\t\t\t\t\t (True) \n",
      "\t\t\t\t\t\t Predicted Rate = 2.218453483\n",
      "\t\t\t\t\t\t (False) \n",
      "\t\t\t\t\t\t Predicted Rate = 2.414896029\n",
      "\t\t\t\t (False) \n",
      "\t\t\t\t\t Confirmed <= 4356324.0\n",
      "\t\t\t\t\t (True) \n",
      "\t\t\t\t\t\t Deaths <= 285820.5\n",
      "\t\t\t\t\t\t (True) \n",
      "\t\t\t\t\t\t Predicted Rate = 2.1731875730000003\n",
      "\t\t\t\t\t\t (False) \n",
      "\t\t\t\t\t\t Predicted Rate = 1.9309993065\n",
      "\t\t\t\t\t (False) \n",
      "\t\t\t\t\t\t Deaths <= 312364.0\n",
      "\t\t\t\t\t\t (True) \n",
      "\t\t\t\t\t\t Predicted Rate = 2.199897331\n",
      "\t\t\t\t\t\t (False) \n",
      "\t\t\t\t\t\t Predicted Rate = 2.0976246069999998\n",
      "\t\t (False) \n",
      "\t\t\t Confirmed <= 17722066.5\n",
      "\t\t\t (True) \n",
      "\t\t\t\t Deaths <= 404486.0\n",
      "\t\t\t\t (True) \n",
      "\t\t\t\t\t Confirmed <= 4809898.0\n",
      "\t\t\t\t\t (True) \n",
      "\t\t\t\t\t Predicted Rate = 1.688157911\n",
      "\t\t\t\t\t (False) \n",
      "\t\t\t\t\t\t Deaths <= 346306.0\n",
      "\t\t\t\t\t\t (True) \n",
      "\t\t\t\t\t\t Predicted Rate = 2.0639206045\n",
      "\t\t\t\t\t\t (False) \n",
      "\t\t\t\t\t\t Predicted Rate = 1.871311985\n",
      "\t\t\t\t (False) \n",
      "\t\t\t\t\t Confirmed <= 16023576.5\n",
      "\t\t\t\t\t (True) \n",
      "\t\t\t\t\t Predicted Rate = 1.710771092931035\n",
      "\t\t\t\t\t (False) \n",
      "\t\t\t\t\t\t Deaths <= 653389.0\n",
      "\t\t\t\t\t\t (True) \n",
      "\t\t\t\t\t\t Predicted Rate = 1.3602013144999998\n",
      "\t\t\t\t\t\t (False) \n",
      "\t\t\t\t\t\t Predicted Rate = 1.6459402247500001\n",
      "\t\t\t (False) \n",
      "\t\t\t\t Deaths <= 751553.0\n",
      "\t\t\t\t (True) \n",
      "\t\t\t\t\t Confirmed <= 19746667.0\n",
      "\t\t\t\t\t (True) \n",
      "\t\t\t\t\t\t Deaths <= 692876.0\n",
      "\t\t\t\t\t\t (True) \n",
      "\t\t\t\t\t\t Predicted Rate = 1.2760620916666667\n",
      "\t\t\t\t\t\t (False) \n",
      "\t\t\t\t\t\t Predicted Rate = 1.4091056983333334\n",
      "\t\t\t\t\t (False) \n",
      "\t\t\t\t\t\t Deaths <= 731715.0\n",
      "\t\t\t\t\t\t (True) \n",
      "\t\t\t\t\t\t Predicted Rate = 1.142119842\n",
      "\t\t\t\t\t\t (False) \n",
      "\t\t\t\t\t\t Predicted Rate = 1.268661992\n",
      "\t\t\t\t (False) \n",
      "\t\t\t\t\t Confirmed <= 24837826.5\n",
      "\t\t\t\t\t (True) \n",
      "\t\t\t\t\t\t Deaths <= 822538.0\n",
      "\t\t\t\t\t\t (True) \n",
      "\t\t\t\t\t\t Predicted Rate = 1.080263649625\n",
      "\t\t\t\t\t\t (False) \n",
      "\t\t\t\t\t\t Predicted Rate = 1.180057406\n",
      "\t\t\t\t\t (False) \n",
      "\t\t\t\t\t Predicted Rate = 1.0137175626000001\n"
     ]
    }
   ],
   "source": [
    "class PrintTree:#Printing the tree\n",
    "    def printTree(self, tree, d = 0):\n",
    "        if (tree == None or len(tree) == 0):\n",
    "            print(\"\\t\" * d, \"-\")\n",
    "        else:\n",
    "            for key, val in tree.items():\n",
    "                    print (\"\\t\" * d, key)\n",
    "                    for j in val:\n",
    "                        if j==val[0]:\n",
    "                            print(\"\\t\" * d,\"(True) \")\n",
    "                        else: \n",
    "                            print(\"\\t\" * d,\"(False) \")\n",
    "                        if isinstance(j,dict):\n",
    "                            self.printTree(j, d+1)\n",
    "                        else:\n",
    "                            if j==val[0]:\n",
    "                                print (\"\\t\" * d, \"Predicted Rate =\",j)\n",
    "                            else:\n",
    "                                print (\"\\t\" * d, \"Predicted Rate =\",j)\n",
    "\n",
    "final_tree=PrintTree()\n",
    "#pprint(tree_best_pruned)\n",
    "final_tree.printTree(tree_best_pruned)"
   ]
  },
  {
   "cell_type": "code",
   "execution_count": 22,
   "metadata": {},
   "outputs": [
    {
     "name": "stdout",
     "output_type": "stream",
     "text": [
      "New Test Accuracy: 0.7892350142716837 \n"
     ]
    }
   ],
   "source": [
    "r_squared_test = calculate_r_squared(test_df_best, tree_best_pruned)\n",
    "print(\"New Test Accuracy: {} \".format(r_squared_test))#Displaying new test accuracy post pruning"
   ]
  }
 ],
 "metadata": {
  "kernelspec": {
   "display_name": "Python 3",
   "language": "python",
   "name": "python3"
  },
  "language_info": {
   "codemirror_mode": {
    "name": "ipython",
    "version": 3
   },
   "file_extension": ".py",
   "mimetype": "text/x-python",
   "name": "python",
   "nbconvert_exporter": "python",
   "pygments_lexer": "ipython3",
   "version": "3.7.3"
  }
 },
 "nbformat": 4,
 "nbformat_minor": 4
}
